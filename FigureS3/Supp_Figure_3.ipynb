{
 "cells": [
  {
   "cell_type": "code",
   "execution_count": 1,
   "metadata": {
    "collapsed": false,
    "scrolled": true
   },
   "outputs": [],
   "source": [
    "from FlowCytometryTools import *\n",
    "import numpy as np\n",
    "import pandas as pd\n",
    "import math\n",
    "import matplotlib\n",
    "import matplotlib.pyplot as plt\n",
    "import glob\n",
    "import seaborn as sns\n",
    "import random\n",
    "\n",
    "sns.set_style('white')\n",
    "sns.set_style('ticks')\n",
    "%matplotlib inline\n",
    "#note: this code requires data from Figure 2 in addition to the Supp Fig 3 Data\n",
    "#save Suppfig3_Data folder in the same location as this notebook \n",
    "dataRepo = os.getcwd() + \"/SuppFig3_Data/\"\n",
    "#this assumes Figure2_Data is in the same parent directory as the FigureS3 code and data\n",
    "dataRepo1 = os.path.dirname(os.getcwd()) + \"/Figure2/Figure2_Data/\""
   ]
  },
  {
   "cell_type": "markdown",
   "metadata": {},
   "source": [
    "# Supplementary Figure 3A"
   ]
  },
  {
   "cell_type": "code",
   "execution_count": 2,
   "metadata": {
    "collapsed": true
   },
   "outputs": [],
   "source": [
    "date0 = '20181129_30_1203'\n",
    "#load platemaps which detail the location of each strain and dose\n",
    "p2Map_1129, pDarkMap_1129 = [pd.read_csv(x) for x in \n",
    "                                    glob.glob(dataRepo + '20181129_LVTRPLANS_ManyTFs_ampResp/PlateMap*.csv')]\n",
    "p1Map_1130, p2Map_1130, pDarkMap_1130 = [pd.read_csv(x) for x in \n",
    "                                    glob.glob(dataRepo + '20181130_LVTRPLANS_ManyTFs_ampResp/PlateMap*.csv')]\n",
    "p1Map_1203, p2Map_1203, pDarkMap_1203 = [pd.read_csv(x) for x in \n",
    "                                    glob.glob(dataRepo + '20181203_LVTRPLANS_ManyTFs_ampResp/PlateMap*.csv')]"
   ]
  },
  {
   "cell_type": "code",
   "execution_count": 3,
   "metadata": {
    "collapsed": false
   },
   "outputs": [],
   "source": [
    "#save the names of the directories which hold the actual flow cytometry data\n",
    "datadir_1129_1 = dataRepo + '20181129_LVTRPLANS_ManyTFs_ampResp/P2_Flat/'\n",
    "datadir_1129_2 = dataRepo + '20181129_LVTRPLANS_ManyTFs_ampResp/PDark_Flat/'\n",
    "datadir_1130_1 = dataRepo + '20181130_LVTRPLANS_ManyTFs_ampResp/P1_Flat/'\n",
    "datadir_1130_2 = dataRepo + '20181130_LVTRPLANS_ManyTFs_ampResp/P2_Flat/'\n",
    "datadir_1130_3 = dataRepo + '20181130_LVTRPLANS_ManyTFs_ampResp/PDark_Flat/'\n",
    "datadir_1203_1 = dataRepo + '20181203_LVTRPLANS_ManyTFs_ampResp/P1_Flat/'\n",
    "datadir_1203_2 = dataRepo + '20181203_LVTRPLANS_ManyTFs_ampResp/P2_Flat/'\n",
    "datadir_1203_3 = dataRepo + '20181203_LVTRPLANS_ManyTFs_ampResp/PDark_Flat/'"
   ]
  },
  {
   "cell_type": "code",
   "execution_count": 4,
   "metadata": {
    "collapsed": false
   },
   "outputs": [],
   "source": [
    "datadir_list_3a = [datadir_1129_1, datadir_1129_2, datadir_1130_1, datadir_1130_2, datadir_1130_3, \n",
    "                   datadir_1203_1, datadir_1203_2, datadir_1203_3]\n",
    "[files_1129_1, files_1129_2, files_1130_1, files_1130_2, files_1130_3, \n",
    "                   files_1203_1, files_1203_2, files_1203_3] = [glob.glob(x + '*.fcs') for x in datadir_list_3a]"
   ]
  },
  {
   "cell_type": "code",
   "execution_count": 5,
   "metadata": {
    "collapsed": true
   },
   "outputs": [],
   "source": [
    "rows = ['A','B','C','D','E','F','G','H']\n",
    "cols = ['01','02','03','04','05','06','07','08','09','10','11','12']"
   ]
  },
  {
   "cell_type": "code",
   "execution_count": 6,
   "metadata": {
    "collapsed": true
   },
   "outputs": [],
   "source": [
    "def parseFilenamesPlateRaw(files_list, plateraw_list):\n",
    "    #parse file names to get plate location\n",
    "    #modifies plateraw_list in place\n",
    "    for file_plate_ind in range(len(files_list)):\n",
    "        for i in range(len(files_list[file_plate_ind])):\n",
    "            c = files_list[file_plate_ind][i][-6:-4]\n",
    "            r = files_list[file_plate_ind][i][-7]\n",
    "            call = r + c\n",
    "            plateraw_list[file_plate_ind].loc[r,c] = FCMeasurement(ID = call, datafile = files_list[file_plate_ind][i])"
   ]
  },
  {
   "cell_type": "code",
   "execution_count": 7,
   "metadata": {
    "collapsed": true
   },
   "outputs": [],
   "source": [
    "[plateraw_P2_1129, plateraw_PD_1129, plateraw_P1_1130, plateraw_P2_1130, plateraw_PD_1130, \n",
    " plateraw_P1_1203, plateraw_P2_1203, plateraw_PD_1203] = [pd.DataFrame(index = rows) for i in range(8)]\n",
    "\n",
    "files_list_3a = [files_1129_1, files_1129_2, files_1130_1, files_1130_2, files_1130_3, \n",
    "                   files_1203_1, files_1203_2, files_1203_3]\n",
    "\n",
    "plateraw_list_3a = [plateraw_P2_1129, plateraw_PD_1129, plateraw_P1_1130, plateraw_P2_1130, plateraw_PD_1130, \n",
    " plateraw_P1_1203, plateraw_P2_1203, plateraw_PD_1203]\n",
    "\n",
    "parseFilenamesPlateRaw(files_list_3a, plateraw_list_3a)"
   ]
  },
  {
   "cell_type": "code",
   "execution_count": 8,
   "metadata": {
    "collapsed": true
   },
   "outputs": [],
   "source": [
    "[platesort_P2_1129, platesort_PD_1129, platesort_P1_1130, platesort_P2_1130, platesort_PD_1130, \n",
    " platesort_P1_1203, platesort_P2_1203, platesort_PD_1203] = [plateraw.loc[rows,cols] for plateraw in plateraw_list_3a]\n",
    "platesort_list_3a = [platesort_P2_1129, platesort_PD_1129, platesort_P1_1130, platesort_P2_1130, platesort_PD_1130, \n",
    " platesort_P1_1203, platesort_P2_1203, platesort_PD_1203] "
   ]
  },
  {
   "cell_type": "code",
   "execution_count": 9,
   "metadata": {
    "collapsed": true
   },
   "outputs": [],
   "source": [
    "def plateMapParse(PMdf, numDose):\n",
    "    #parse the csv file with strain and dose information; does not handle repeated unique strain names\n",
    "    #PMdf is a dataframe; numDose is an int declaring how many doses there are in the csv file\n",
    "    doseList = np.unique(PMdf['Dose'])\n",
    "    rowDictList, colDictList = [], []\n",
    "    for doseInd in range(numDose):\n",
    "        doseRowDict, doseColDict = {}, {}\n",
    "        for dfRowInd in range(len(PMdf)):\n",
    "            if PMdf['Dose'][dfRowInd] == doseList[doseInd] and PMdf['Strain'][dfRowInd] > 0:\n",
    "                ##0 indexes row and column locations\n",
    "                doseRowDict[str(PMdf['Strain'][dfRowInd])] = PMdf['Row'][dfRowInd]-1\n",
    "                doseColDict[str(PMdf['Strain'][dfRowInd])] = PMdf['Col'][dfRowInd]-1\n",
    "        rowDictList.append(doseRowDict.copy())\n",
    "        colDictList.append(doseColDict.copy())\n",
    "    return(rowDictList, colDictList)\n",
    "\n",
    "def plateMapParseReps(PMdf, numDose):\n",
    "    #parse the csv file with strain and dose information, and return the location of up to two replicates for each unique strain\n",
    "    #name\n",
    "    #used to save data from technical replicates\n",
    "    #PMdf is a dataframe; numDose is an int declaring how many doses there are in the csv file\n",
    "    doseList = np.unique(PMdf['Dose'])\n",
    "    rowDictList, colDictList, rowDictListRep, colDictListRep = [], [], [], []\n",
    "    for doseInd in range(numDose):\n",
    "        doseRowDict, doseColDict, doseRowDictRep, doseColDictRep = {}, {}, {}, {}\n",
    "        for dfRowInd in range(len(PMdf)):\n",
    "            if PMdf['Dose'][dfRowInd] == doseList[doseInd] and PMdf['Strain'][dfRowInd] > 0:\n",
    "                ##0 indexes row and column locations\n",
    "                ##if strain num has already been seen, put into replicate dictionary\n",
    "                if str(PMdf['Strain'][dfRowInd]) in doseRowDict.keys():\n",
    "                    doseRowDictRep[str(PMdf['Strain'][dfRowInd])] = PMdf['Row'][dfRowInd]-1\n",
    "                    doseColDictRep[str(PMdf['Strain'][dfRowInd])] = PMdf['Col'][dfRowInd]-1\n",
    "                else:\n",
    "                    doseRowDict[str(PMdf['Strain'][dfRowInd])] = PMdf['Row'][dfRowInd]-1\n",
    "                    doseColDict[str(PMdf['Strain'][dfRowInd])] = PMdf['Col'][dfRowInd]-1\n",
    "        rowDictList.append(doseRowDict.copy())\n",
    "        colDictList.append(doseColDict.copy())\n",
    "        rowDictListRep.append(doseRowDictRep.copy())\n",
    "        colDictListRep.append(doseColDictRep.copy())\n",
    "    return(rowDictList, colDictList, rowDictListRep, colDictListRep)"
   ]
  },
  {
   "cell_type": "code",
   "execution_count": 10,
   "metadata": {
    "collapsed": false
   },
   "outputs": [],
   "source": [
    "def cleandata(array,thresh):\n",
    "    #drop data below a threshold (thresh)\n",
    "    for i in range(len(array)):\n",
    "        if array[i] <= thresh:\n",
    "            array[i] = np.nan\n",
    "    return array\n",
    "\n",
    "def gate(FCMeasurement,gatedata,minimum, gatedata1, minimum1, gatedata2, minimum2):\n",
    "    #gate data based on multiple channels\n",
    "    try:\n",
    "        FCMgate = FCMeasurement.data[(FCMeasurement.data[gatedata] > minimum) & (FCMeasurement.data[gatedata1] > minimum1) \n",
    "                                     & (FCMeasurement.data[gatedata2] > minimum2)]\n",
    "        return FCMgate\n",
    "    except AttributeError:\n",
    "        return np.nan\n",
    "\n",
    "def FCdatastats(platesort,normalized,rows,cols,FITCthresh,mCherrythresh,SSCthresh):\n",
    "    \n",
    "    #Calculate the linear median, mean, and SD for each of the wells. Create two different Panels, one for FITC and one\n",
    "    #for mCherry. In each Panel store a DataFrame containing the median, mean, SD, and CV\n",
    "\n",
    "    empty = pd.DataFrame(index = rows, columns = cols)\n",
    "\n",
    "    FITCstats = pd.Panel({'raw':empty, 'med':empty, 'avg':empty, 'sd':empty, 'cv':empty, 'clean':empty})\n",
    "    mCherrystats = pd.Panel({'raw':empty, 'med':empty, 'avg':empty, 'sd':empty,'cv':empty, 'clean':empty})\n",
    "\n",
    "    for row in rows:\n",
    "        for col in cols:   \n",
    "\n",
    "            try:\n",
    "                FCM = gate(platesort.loc[row,col],'FITC-H',FITCthresh, 'SSC-H', SSCthresh, 'mCherry-H', mCherrythresh)\n",
    "                \n",
    "            except TypeError:\n",
    "                continue\n",
    "\n",
    "            try: \n",
    "                if normalized == 1:\n",
    "                    FITC = FCM['FITC-H']/FCM['SSC-H']\n",
    "                    mCherry = FCM['mCherry-H']/FCM['SSC-H']\n",
    "\n",
    "                elif normalized == 0:\n",
    "                    FITC = FCM['FITC-H']\n",
    "                    mCherry = FCM['mCherry-H']\n",
    "\n",
    "                FITCstats.raw.set_value(row, col, FITC)\n",
    "                FITCstats.med.set_value(row,col,FITC.median(axis=0))\n",
    "                FITCstats.avg.set_value(row,col,FITC.mean(axis=0))\n",
    "                FITCstats.sd.set_value(row,col,FITC.std(axis=0))\n",
    "                FITCstats.cv.set_value(row,col,FITCstats.avg.loc[row,col]/FITCstats.avg.loc[row,col])\n",
    "                #FITCstats.clean.set_value(row, col, cleandata(FITC, FITCthresh))\n",
    "\n",
    "                mCherrystats.raw.set_value(row, col, mCherry)\n",
    "                mCherrystats.med.set_value(row,col,mCherry.median(axis=0))\n",
    "                mCherrystats.avg.set_value(row,col,mCherry.mean(axis=0))\n",
    "                mCherrystats.sd.set_value(row,col,mCherry.std(axis=0))\n",
    "                mCherrystats.cv.set_value(row,col,mCherrystats.avg.loc[row,col]/mCherrystats.avg.loc[row,col])\n",
    "                #mCherrystats.clean.set_value(row, col, cleandata(mCherry, mCherrythresh))\n",
    "\n",
    "            except (AttributeError, TypeError):\n",
    "                continue\n",
    "    \n",
    "    return [FITCstats, mCherrystats]"
   ]
  },
  {
   "cell_type": "code",
   "execution_count": 11,
   "metadata": {
    "collapsed": false
   },
   "outputs": [],
   "source": [
    "def concatReplicates(fluorStats, strainName, doseInd, rowList, colList):\n",
    "    #concatenate data for results attached to the same strain and dose\n",
    "    allSampleNames = rowList[doseInd].keys()\n",
    "    repData = []\n",
    "    for sampleName in allSampleNames:\n",
    "        if strainName in sampleName:\n",
    "            repData.append(fluorStats.raw.iloc[rowList[doseInd][sampleName], colList[doseInd][sampleName]])\n",
    "    return(pd.concat(repData, ignore_index=True))\n"
   ]
  },
  {
   "cell_type": "code",
   "execution_count": 12,
   "metadata": {
    "collapsed": true
   },
   "outputs": [],
   "source": [
    "#calculate normalized (normalized to side scatter) stats for FITC and mCherry from each experiment\n",
    "#gate data for flow cytometry experiments on FITC (>=100, or approx bkg fluorescence) and side scatter (>= 1000)\n",
    "[[FITCnorm_P2_1129, mCherrynorm_P2_1129], [FITCnorm_PD_1129, mCherrynorm_PD_1129], \n",
    " [FITCnorm_P1_1130, mCherrynorm_P1_1130], [FITCnorm_P2_1130, mCherrynorm_P2_1130], \n",
    " [FITCnorm_PD_1130, mCherrynorm_PD_1130], [FITCnorm_P1_1203, mCherrynorm_P1_1203],\n",
    " [FITCnorm_P2_1203, mCherrynorm_P2_1203], \n",
    " [FITCnorm_PD_1203, mCherrynorm_PD_1203]] = [FCdatastats(platesort,1,rows,cols,100,0,1000) for platesort in platesort_list_3a]\n"
   ]
  },
  {
   "cell_type": "code",
   "execution_count": 13,
   "metadata": {
    "collapsed": true
   },
   "outputs": [],
   "source": [
    "#parse plate maps and get location of strain/dose combinations\n",
    "#note that there are only technical replicates for the dark data (no technical replicates for light inputs)\n",
    "p2MapRowList_1129, p2MapColList_1129 = plateMapParse(p2Map_1129, 7)\n",
    "p1MapRowList_1130, p1MapColList_1130 = plateMapParse(p1Map_1130, 7)\n",
    "p2MapRowList_1130, p2MapColList_1130 = plateMapParse(p2Map_1130, 7)\n",
    "p1MapRowList_1203, p1MapColList_1203 = plateMapParse(p1Map_1203, 7)\n",
    "p2MapRowList_1203, p2MapColList_1203 = plateMapParse(p2Map_1203, 7)\n",
    "pDMapRowList1_1129, pDMapColList1_1129, pDMapRowListR1_1129, pDMapColListR1_1129 = plateMapParseReps(pDarkMap_1129, 1)\n",
    "pDMapRowList1_1130, pDMapColList1_1130, pDMapRowListR1_1130, pDMapColListR1_1130 = plateMapParseReps(pDarkMap_1130, 1)\n",
    "pDMapRowList1_1203, pDMapColList1_1203, pDMapRowListR1_1203, pDMapColListR1_1203 = plateMapParseReps(pDarkMap_1203, 1)"
   ]
  },
  {
   "cell_type": "code",
   "execution_count": 14,
   "metadata": {
    "collapsed": true
   },
   "outputs": [],
   "source": [
    "def longDoseResp(lightStats, lightRowList, lightColList, darkStats, darkRowList, darkColList, strName, numDoses, \n",
    "                 doseValList, reps=True):\n",
    "    #create a long dataframe with response for each dose specified in doseValList\n",
    "    #dataframe will be the size of the number of cells gathered\n",
    "    dfList = []\n",
    "    nonZeroDoseStartingInd = 0\n",
    "    if doseValList[0] == 0:\n",
    "        nonZeroDoseStartingInd = 1\n",
    "        if reps:\n",
    "            zData = concatReplicates(darkStats, strName, 0, darkRowList, darkColList).to_frame()\n",
    "        else:\n",
    "            zData = darkStats.raw.iloc[darkRowList[0][strName], darkColList[0][strName]].to_frame()\n",
    "        zData['Light Dose'] = [0]*zData.shape[0]\n",
    "        zData['Strain'] = [strName]*zData.shape[0]\n",
    "        zData.columns = ['variable', 'Light Dose' , 'Strain']\n",
    "        dfList.append(zData)\n",
    "    for doseInd in range(nonZeroDoseStartingInd, numDoses):\n",
    "        if reps:\n",
    "            dData = concatReplicates(lightStats, strName, doseInd, lightRowList, lightColList).to_frame()\n",
    "        else:\n",
    "            dData = lightStats.raw.iloc[lightRowList[doseInd][strName], lightColList[doseInd][strName]].to_frame()\n",
    "        dData['Light Dose'] = [doseValList[doseInd]]*dData.shape[0]\n",
    "        dData['Strain'] = [strName]*dData.shape[0]\n",
    "        dData.columns = ['variable', 'Light Dose' , 'Strain']\n",
    "        dfList.append(dData)\n",
    "    return(pd.concat(dfList, ignore_index=True))\n",
    "\n",
    "def longDoseRespNorm(lightStats, lightRowList, lightColList, darkStats, darkRowList, darkColList, \n",
    "                     strName, numDoses, doseValList, mean_or_median=0, reps=True):\n",
    "    #create a long dataframe with response for each dose specified in doseValList\n",
    "    #dataframe will be the size of the number of cells gathered\n",
    "    #all values will be normalized by the mean or median of the zero dose (mean if mean_or_median == 0)\n",
    "    dfList = []\n",
    "    if reps:\n",
    "        zData = concatReplicates(darkStats, strName, 0, darkRowList, darkColList).to_frame()\n",
    "    else:\n",
    "        zData = darkStats.raw.iloc[darkRowList[0][strName], darkColList[0][strName]].to_frame()\n",
    "    if mean_or_median == 0:\n",
    "        zDataSummary = zData.mean()\n",
    "    else:\n",
    "        zDataSummary = zData.median()\n",
    "    zDataNorm = zData/zDataSummary\n",
    "    zDataNorm['Light Dose'] = [0]*zDataNorm.shape[0]\n",
    "    zDataNorm['Strain'] = [strName]*zDataNorm.shape[0]\n",
    "    zDataNorm.columns = ['variable', 'Light Dose' , 'Strain']\n",
    "    dfList.append(zDataNorm)\n",
    "    for doseInd in range(1, numDoses):\n",
    "        if reps:\n",
    "            try:\n",
    "                #if there is no technical replicate for a light dose, this prevents an error\n",
    "                dData = concatReplicates(lightStats, strName, doseInd, lightRowList, lightColList).to_frame()\n",
    "            except ValueError:\n",
    "                continue\n",
    "        else:\n",
    "            dData = lightStats.raw.iloc[lightRowList[doseInd][strName], lightColList[doseInd][strName]].to_frame()\n",
    "        dDataNorm = dData/zDataSummary\n",
    "        dDataNorm['Light Dose'] = [doseValList[doseInd]]*dDataNorm.shape[0]\n",
    "        dDataNorm['Strain'] = [strName]*dDataNorm.shape[0]\n",
    "        dDataNorm.columns = ['variable', 'Light Dose' , 'Strain']\n",
    "        dfList.append(dDataNorm)\n",
    "    return(pd.concat(dfList, ignore_index=True))\n",
    "\n",
    "def getMeanSDLD(rep1, rep2, strainID, date):\n",
    "    #calculate the mean and standard deviation for each light dose\n",
    "    if rep2 is not None:\n",
    "        allData = pd.concat([rep1, rep2], ignore_index=True)\n",
    "    else:\n",
    "        allData = rep1.copy()\n",
    "    allDataMeans = allData.groupby([\"Light Dose\", \"Strain\"]).mean().reset_index()\n",
    "    allDataMeans['Std Dev'] = allData.groupby([\"Light Dose\", \"Strain\"]).std().reset_index()['variable']\n",
    "    allDataMeans['StrainID'] = [strainID]*allDataMeans.shape[0]\n",
    "    allDataMeans['Date'] = [date]*allDataMeans.shape[0]\n",
    "    return allDataMeans"
   ]
  },
  {
   "cell_type": "code",
   "execution_count": 15,
   "metadata": {
    "collapsed": false
   },
   "outputs": [],
   "source": [
    "#list out doses and biological replicates for each strain\n",
    "doseList = list(np.unique(p2Map_1129['Dose']))\n",
    "tfListReps = ['133.1', '133.2', '133.3', '204.1', '204.2', '204.3', '228.1', '228.2', '228.3']\n",
    "strainRespList_3a = []\n",
    "#drop the replicate number (i.e what is after the period) to get the strain ID\n",
    "strainIDs = [x.split('.')[0] for x in tfListReps]\n",
    "#separate by date of experiment for getting SEM\n",
    "dates = ['1129', '1130', '1203']\n",
    "#calculate mean, std dev, etc for each biological replicate light data (normalized to measurements with 0 light)\n",
    "for strainRep_ind in range(len(tfListReps)):\n",
    "    strainRespList_3a.append(getMeanSDLD(longDoseRespNorm(FITCnorm_P2_1129, p2MapRowList_1129, \n",
    "                                p2MapColList_1129, FITCnorm_PD_1129, pDMapRowListR1_1129, \n",
    "                                pDMapColListR1_1129, tfListReps[strainRep_ind], 7, doseList), \n",
    "                                        None, strainIDs[strainRep_ind], dates[0]))\n",
    "    strainRespList_3a.append(getMeanSDLD(longDoseRespNorm(FITCnorm_P1_1130, p1MapRowList_1130, \n",
    "                                p1MapColList_1130, FITCnorm_PD_1130, pDMapRowList1_1130, \n",
    "                                pDMapColList1_1130, tfListReps[strainRep_ind], 7, doseList), \n",
    "                                longDoseRespNorm(FITCnorm_P2_1130, p2MapRowList_1130, p2MapColList_1130, FITCnorm_PD_1130, \n",
    "                                pDMapRowListR1_1130, pDMapColListR1_1130, tfListReps[strainRep_ind], 7, doseList), \n",
    "                                           strainIDs[strainRep_ind], dates[1]))\n",
    "    strainRespList_3a.append(getMeanSDLD(longDoseRespNorm(FITCnorm_P1_1203, p1MapRowList_1203, \n",
    "                                p1MapColList_1203, FITCnorm_PD_1203, pDMapRowList1_1203, \n",
    "                                pDMapColList1_1203, tfListReps[strainRep_ind], 7, doseList), \n",
    "                                longDoseRespNorm(FITCnorm_P2_1203, p2MapRowList_1203, p2MapColList_1203, FITCnorm_PD_1203, \n",
    "                                pDMapRowListR1_1203, pDMapColListR1_1203, tfListReps[strainRep_ind], 7, doseList), \n",
    "                                           strainIDs[strainRep_ind], dates[2]))\n",
    "strainRespDF_3a = pd.concat(strainRespList_3a, ignore_index=True)"
   ]
  },
  {
   "cell_type": "code",
   "execution_count": 16,
   "metadata": {
    "collapsed": false
   },
   "outputs": [
    {
     "data": {
      "image/png": "[encoded data removed]",
      "text/plain": [
       "<matplotlib.figure.Figure at 0xf0fc438>"
      ]
     },
     "metadata": {},
     "output_type": "display_data"
    }
   ],
   "source": [
    "#yLO133 -- SynTF-CLASP\n",
    "#yLO204 -- Pho4-CLASP\n",
    "#yLO228 -- Msn2-CLASP\n",
    "#The dose selected for each strain was marked red in illustrator\n",
    "seq_col_brew = sns.color_palette(\"Greys_r\", 10)\n",
    "sns.set_palette(seq_col_brew)\n",
    "sns.lmplot('Light Dose', 'variable',\n",
    "           data=strainRespDF_3a, fit_reg=False, size = 5,\n",
    "           x_estimator=np.mean, x_ci=68, hue=\"StrainID\", \n",
    "           markers = [\"o\",\"^\", \"s\"], scatter_kws={\"marker\": \"D\",\n",
    "                        \"s\": 200})\n",
    "plt.xlabel('Light Dose (a.u.)')\n",
    "plt.ylabel('Gene Expression Fold Change \\nMean FITC/SSC')\n",
    "plt.ylim(0,6)\n",
    "plt.xlim(-75, 5000)\n",
    "dest = date0 + '_AmpResp_ylim6'\n",
    "#plt.savefig(os.getcwd() + \"/\" + dest + '.svg',dpi=300)\n",
    "#plt.savefig(os.getcwd() + \"/\"  + dest + '.png',dpi=300)"
   ]
  },
  {
   "cell_type": "code",
   "execution_count": 17,
   "metadata": {
    "collapsed": false
   },
   "outputs": [
    {
     "data": {
      "image/png": "[encoded data removed]",
      "text/plain": [
       "<matplotlib.figure.Figure at 0xf0f0e80>"
      ]
     },
     "metadata": {},
     "output_type": "display_data"
    }
   ],
   "source": [
    "#yLO133 -- SynTF-CLASP\n",
    "#yLO204 -- Pho4-CLASP\n",
    "#yLO228 -- Msn2-CLASP\n",
    "#The dose selected for each strain was marked red in illustrator\n",
    "seq_col_brew = sns.color_palette(\"Greys_r\", 10)\n",
    "sns.set_palette(seq_col_brew)\n",
    "sns.lmplot('Light Dose', 'variable',\n",
    "           data=strainRespDF_3a, fit_reg=False, size = 5,\n",
    "           x_estimator=np.mean, x_ci=68, hue=\"StrainID\", \n",
    "           markers = [\"o\",\"^\", \"s\"], scatter_kws={\"marker\": \"D\",\n",
    "                        \"s\": 200})\n",
    "plt.xlabel('Light Dose (a.u.)')\n",
    "plt.ylabel('Gene Expression Fold Change \\nMean FITC/SSC')\n",
    "plt.ylim(10,30)\n",
    "plt.xlim(-75, 5000)\n",
    "dest = date0 + '_AmpResp_ylim10-30'\n",
    "#plt.savefig(os.getcwd() + \"/\" + dest + '.svg',dpi=300)\n",
    "#plt.savefig(os.getcwd() + \"/\"  + dest + '.png',dpi=300)"
   ]
  },
  {
   "cell_type": "markdown",
   "metadata": {},
   "source": [
    "# Supplementary Figure 3B"
   ]
  },
  {
   "cell_type": "code",
   "execution_count": 18,
   "metadata": {
    "collapsed": false
   },
   "outputs": [],
   "source": [
    "date1 = '20180528_0612_13_14_21'\n",
    "#load platemaps which detail the location of each strain and dose for syntf and pho4\n",
    "pTimeMap_133204_1, pCtrlMap_133204_1, pDarkMap_133204_1 = [pd.read_csv(x) for x in \n",
    "                                                glob.glob(dataRepo1 + '20180528_LVTRPLANS_durResp_133204_ctrls/PlateMap*.csv')]\n",
    "pTimeMap_133204_2, pDark_CtrlMap_133204_2 = [pd.read_csv(x) for x in \n",
    "                                             glob.glob(dataRepo1 + '20180612_lvtrplans_durResp_133204_ctrls/PlateMap*.csv')]\n",
    "pTimeMap_133204_3, pDark_CtrlMap_133204_3 = [pd.read_csv(x) for x in \n",
    "                                             glob.glob(dataRepo1 + '20180614_lvtrplans_durResp_133204_ctrls/PlateMap*.csv')]\n",
    "\n",
    "#load platemaps which detail the location of each strain and dose for msn2\n",
    "pTimeMap_228yps_1, pDark_CtrlMap_228yps_1 = [pd.read_csv(x) for x in \n",
    "                                             glob.glob(dataRepo1 + '20180613_lvtrplans_durResp_228yps_ctrls/PlateMap*.csv')]\n",
    "pTimeMap_228yps_2, pDark_CtrlMap_228yps_2 = [pd.read_csv(x) for x in \n",
    "                                             glob.glob(dataRepo1 + '20180614_lvtrplans_durResp_228yps_ctrls/PlateMap*.csv')]\n",
    "pTimeMap_228yps_3, pDark_CtrlMap_228yps_3 = [pd.read_csv(x) for x in \n",
    "                                             glob.glob(dataRepo1 + '20180621_lvtrplans_durResp_228yps_ctrls/PlateMap*.csv')]"
   ]
  },
  {
   "cell_type": "code",
   "execution_count": 19,
   "metadata": {
    "collapsed": false
   },
   "outputs": [],
   "source": [
    "#save the names of the directories which hold the actual flow cytometry data\n",
    "\n",
    "datadir_133204_1_1 = dataRepo1 + '20180528_LVTRPLANS_durResp_133204_ctrls/P1/'\n",
    "datadir_133204_1_2 = dataRepo1 + '20180528_LVTRPLANS_durResp_133204_ctrls/PDark/'\n",
    "datadir_133204_1_3 = dataRepo1 + '20180528_LVTRPLANS_durResp_133204_ctrls/PCtrls/'\n",
    "datadir_133204_2_1 = dataRepo1 + '20180612_lvtrplans_durResp_133204_ctrls/P1/'\n",
    "datadir_133204_2_2 = dataRepo1 + '20180612_lvtrplans_durResp_133204_ctrls/PDark_Ctrls/'\n",
    "datadir_133204_3_1 = dataRepo1 + '20180614_lvtrplans_durResp_133204_ctrls/P1/'\n",
    "datadir_133204_3_2 = dataRepo1 + '20180614_lvtrplans_durResp_133204_ctrls/PDark_Ctrls/'\n",
    "\n",
    "datadir_228yps_1_1 = dataRepo1 + '20180613_lvtrplans_durResp_228yps_ctrls/P1/'\n",
    "datadir_228yps_1_2 = dataRepo1 + '20180613_lvtrplans_durResp_228yps_ctrls/PDark_Ctrls/'\n",
    "datadir_228yps_2_1 = dataRepo1 + '20180614_lvtrplans_durResp_228yps_ctrls/P1/'\n",
    "datadir_228yps_2_2 = dataRepo1 + '20180614_lvtrplans_durResp_228yps_ctrls/PDark_Ctrls/'\n",
    "datadir_228yps_3_1 = dataRepo1 + '20180621_lvtrplans_durResp_228yps_ctrls/P1/'\n",
    "datadir_228yps_3_2 = dataRepo1 + '20180621_lvtrplans_durResp_228yps_ctrls/PDark_Ctrls/'\n"
   ]
  },
  {
   "cell_type": "code",
   "execution_count": 20,
   "metadata": {
    "collapsed": false
   },
   "outputs": [],
   "source": [
    "#save the names of the files within directories which hold the actual flow cytometry data\n",
    "datadir_list_3b = [datadir_133204_1_1, datadir_133204_1_2, datadir_133204_1_3, datadir_133204_2_1, datadir_133204_2_2, \n",
    "                datadir_133204_3_1, datadir_133204_3_2, datadir_228yps_1_1, datadir_228yps_1_2, datadir_228yps_2_1, \n",
    "                datadir_228yps_2_2, datadir_228yps_3_1, datadir_228yps_3_2]\n",
    "\n",
    "[files_133204_1_1, files_133204_1_2, files_133204_1_3, files_133204_2_1, files_133204_2_2, \n",
    "              files_133204_3_1, files_133204_3_2, files_228yps_1_1, files_228yps_1_2, files_228yps_2_1, \n",
    "              files_228yps_2_2, files_228yps_3_1, files_228yps_3_2] = [glob.glob(x + '*.fcs') for x in datadir_list_3b]"
   ]
  },
  {
   "cell_type": "code",
   "execution_count": 21,
   "metadata": {
    "collapsed": true
   },
   "outputs": [],
   "source": [
    "#load flow cytometry data into a plate layout\n",
    "[plateraw_P1_133204_1, plateraw_PD_133204_1, plateraw_PC_133204_1, \n",
    " plateraw_P1_133204_2, plateraw_PD_C_133204_2, plateraw_P1_133204_3, plateraw_PD_C_133204_3, \n",
    " plateraw_P1_228yps_1, plateraw_PD_C_228yps_1, plateraw_P1_228yps_2, \n",
    " plateraw_PD_C_228yps_2, plateraw_P1_228yps_3, plateraw_PD_C_228yps_3] = [pd.DataFrame(index = rows) for i in range(13)]\n",
    "\n",
    "files_list_3b = [files_133204_1_1, files_133204_1_2, files_133204_1_3, files_133204_2_1, files_133204_2_2, \n",
    "              files_133204_3_1, files_133204_3_2, files_228yps_1_1, files_228yps_1_2, files_228yps_2_1, \n",
    "              files_228yps_2_2, files_228yps_3_1, files_228yps_3_2]\n",
    "plateraw_list_3b = [plateraw_P1_133204_1, plateraw_PD_133204_1, plateraw_PC_133204_1, \n",
    "                 plateraw_P1_133204_2, plateraw_PD_C_133204_2, plateraw_P1_133204_3, plateraw_PD_C_133204_3, \n",
    "                 plateraw_P1_228yps_1, plateraw_PD_C_228yps_1, plateraw_P1_228yps_2, \n",
    "                 plateraw_PD_C_228yps_2, plateraw_P1_228yps_3, plateraw_PD_C_228yps_3]\n",
    "\n",
    "#parse file names to get plate location\n",
    "parseFilenamesPlateRaw(files_list_3b, plateraw_list_3b)"
   ]
  },
  {
   "cell_type": "code",
   "execution_count": 22,
   "metadata": {
    "collapsed": true
   },
   "outputs": [],
   "source": [
    "[platesort_P1_133204_1, platesort_PD_133204_1, platesort_PC_133204_1, platesort_P1_133204_2, \n",
    " platesort_PD_C_133204_2, platesort_P1_133204_3, platesort_PD_C_133204_3, platesort_P1_228yps_1, \n",
    " platesort_PD_C_228yps_1, platesort_P1_228yps_2, platesort_PD_C_228yps_2, platesort_P1_228yps_3, \n",
    " platesort_PD_C_228yps_3] = [plateraw.loc[rows,cols] for plateraw in plateraw_list_3b]\n",
    "\n",
    "platesort_133204 = [platesort_P1_133204_1, platesort_PD_133204_1, platesort_PC_133204_1, platesort_P1_133204_2, \n",
    " platesort_PD_C_133204_2, platesort_P1_133204_3, platesort_PD_C_133204_3]\n",
    "\n",
    "platesort_228yps = [platesort_P1_228yps_1, platesort_PD_C_228yps_1, platesort_P1_228yps_2, \n",
    "                    platesort_PD_C_228yps_2, platesort_P1_228yps_3, platesort_PD_C_228yps_3]"
   ]
  },
  {
   "cell_type": "code",
   "execution_count": 23,
   "metadata": {
    "collapsed": true
   },
   "outputs": [],
   "source": [
    "#calculate normalized stats for FITC and mCherry from each experiment\n",
    "#gate data for flow cytometry experiments on FITC (>=100, or approx bkg fluorescence) and side scatter (>= 2000)\n",
    "[[FITCnorm_P1_133204_1, mCherrynorm_P1_133204_1], [FITCnorm_PD_133204_1, mCherrynorm_PD_133204_1], \n",
    " [FITCnorm_PC_133204_1, mCherrynorm_PC_133204_1], [FITCnorm_P1_133204_2, mCherrynorm_P1_133204_2], \n",
    " [FITCnorm_PD_C_133204_2, mCherrynorm_PD_C_133204_2], [FITCnorm_P1_133204_3, mCherrynorm_P1_133204_3], \n",
    " [FITCnorm_PD_C_133204_3, mCherrynorm_PD_C_133204_3]] = [FCdatastats(platesort,1,rows,cols,100,0,2000) \n",
    "                                                         for platesort in platesort_133204]\n",
    "\n",
    "[[FITCnorm_P1_228yps_1, mCherrynorm_P1_228yps_1], [FITCnorm_PD_C_228yps_1, mCherrynorm_PD_C_228yps_1], \n",
    " [FITCnorm_P1_228yps_2, mCherrynorm_P1_228yps_2], [FITCnorm_PD_C_228yps_2, mCherrynorm_PD_C_228yps_2], \n",
    " [FITCnorm_P1_228yps_3, mCherrynorm_P1_228yps_3], \n",
    " [FITCnorm_PD_C_228yps_3, mCherrynorm_PD_C_228yps_3]] = [FCdatastats(platesort,1,rows,cols,100,0,2000) \n",
    "                                                         for platesort in platesort_228yps]"
   ]
  },
  {
   "cell_type": "code",
   "execution_count": 24,
   "metadata": {
    "collapsed": true
   },
   "outputs": [],
   "source": [
    "#parse platemaps and get location of technical replicates\n",
    "pDMapRowList1_133204_1, pDMapColList1_133204_1, pDMapRowListR1_133204_1, pDMapColListR1_133204_1 = plateMapParseReps(pDarkMap_133204_1, 1)\n",
    "pCMapRowList1_133204_1, pCMapColList1_133204_1, pCMapRowListR1_133204_1, pCMapColListR1_133204_1 = plateMapParseReps(pCtrlMap_133204_1, 1)\n",
    "pTimeMapRowList1_133204_1, pTimeMapColList1_133204_1, pTimeMapRowListR1_133204_1, pTimeMapColListR1_133204_1 = plateMapParseReps(pTimeMap_133204_1, 5)\n",
    "pD_CMapRowList1_133204_2, pD_CMapColList1_133204_2, pD_CMapRowListR1_133204_2, pD_CMapColListR1_133204_2 = plateMapParseReps(pDark_CtrlMap_133204_2, 2)\n",
    "pTimeMapRowList1_133204_2, pTimeMapColList1_133204_2, pTimeMapRowListR1_133204_2, pTimeMapColListR1_133204_2 = plateMapParseReps(pTimeMap_133204_2, 5)\n",
    "pD_CMapRowList1_133204_3, pD_CMapColList1_133204_3, pD_CMapRowListR1_133204_3, pD_CMapColListR1_133204_3 = plateMapParseReps(pDark_CtrlMap_133204_3, 2)\n",
    "pTimeMapRowList1_133204_3, pTimeMapColList1_133204_3, pTimeMapRowListR1_133204_3, pTimeMapColListR1_133204_3 = plateMapParseReps(pTimeMap_133204_3, 5)\n",
    "\n",
    "pD_CMapRowList1_228yps_1, pD_CMapColList1_228yps_1, pD_CMapRowListR1_228yps_1, pD_CMapColListR1_228yps_1 = plateMapParseReps(pDark_CtrlMap_228yps_1, 2)\n",
    "pTimeMapRowList1_228yps_1, pTimeMapColList1_228yps_1, pTimeMapRowListR1_228yps_1, pTimeMapColListR1_228yps_1 = plateMapParseReps(pTimeMap_228yps_1, 5)\n",
    "pD_CMapRowList1_228yps_2, pD_CMapColList1_228yps_2, pD_CMapRowListR1_228yps_2, pD_CMapColListR1_228yps_2 = plateMapParseReps(pDark_CtrlMap_228yps_2, 2)\n",
    "pTimeMapRowList1_228yps_2, pTimeMapColList1_228yps_2, pTimeMapRowListR1_228yps_2, pTimeMapColListR1_228yps_2 = plateMapParseReps(pTimeMap_228yps_2, 5)\n",
    "pD_CMapRowList1_228yps_3, pD_CMapColList1_228yps_3, pD_CMapRowListR1_228yps_3, pD_CMapColListR1_228yps_3 = plateMapParseReps(pDark_CtrlMap_228yps_3, 2)\n",
    "pTimeMapRowList1_228yps_3, pTimeMapColList1_228yps_3, pTimeMapRowListR1_228yps_3, pTimeMapColListR1_228yps_3 = plateMapParseReps(pTimeMap_228yps_3, 5)"
   ]
  },
  {
   "cell_type": "code",
   "execution_count": 26,
   "metadata": {
    "collapsed": false
   },
   "outputs": [
    {
     "data": {
      "image/png": "[encoded data removed]",
      "text/plain": [
       "<matplotlib.figure.Figure at 0x10ad3b00>"
      ]
     },
     "metadata": {},
     "output_type": "display_data"
    }
   ],
   "source": [
    "#compare to controls\n",
    "#plot histograms comparing SynTF-CLASP (133) to SynTF-mScarlet (411) and SynTF-NLS (171) \n",
    "seq_col_brew = sns.color_palette(\"Blues\", 4)\n",
    "sns.set_palette(seq_col_brew)\n",
    "tf_CLASP_strain = '133'\n",
    "tf_CytoKO_strain = '411'\n",
    "tf_NLS_strain = '171'\n",
    "\n",
    "#concatenate replicates for each strain\n",
    "#plot FITC for SynTF-mScarlet at dose index 0 (no light) to compare to SynTF-CLASP (no light)\n",
    "fig, ax = plt.subplots(1, 1,sharex = True, sharey = True, figsize=(8,6))\n",
    "tfCytoKOReps = pd.concat([concatReplicates(FITCnorm_PC_133204_1, tf_CytoKO_strain, 0, \n",
    "                                           pCMapRowList1_133204_1, pCMapColList1_133204_1), \n",
    "                concatReplicates(FITCnorm_PD_C_133204_2, tf_CytoKO_strain, 0, pD_CMapRowList1_133204_2, pD_CMapColList1_133204_2), \n",
    "                concatReplicates(FITCnorm_PD_C_133204_2, tf_CytoKO_strain, 0, pD_CMapRowListR1_133204_2, pD_CMapColListR1_133204_2),\n",
    "                concatReplicates(FITCnorm_PD_C_133204_3, tf_CytoKO_strain, 0, pD_CMapRowList1_133204_3, pD_CMapColList1_133204_3), \n",
    "                concatReplicates(FITCnorm_PD_C_133204_3, tf_CytoKO_strain, 0, pD_CMapRowListR1_133204_3, pD_CMapColListR1_133204_3)], \n",
    "                         ignore_index=True)\n",
    "#plot the log10 value of normalized FITC\n",
    "sns.distplot(np.log10(tfCytoKOReps[~np.isnan(tfCytoKOReps)].astype(float)),color = 'orange', \n",
    "             ax = ax, hist = False, kde = True, kde_kws = {'shade': True})\n",
    "#plot for SynTF-CLASP (no light)\n",
    "tf0Reps = pd.concat([concatReplicates(FITCnorm_PD_133204_1, tf_CLASP_strain, 0, pDMapRowList1_133204_1, pDMapColList1_133204_1), \n",
    "                concatReplicates(FITCnorm_PD_133204_1, tf_CLASP_strain, 0, pDMapRowListR1_133204_1, pDMapColListR1_133204_1),\n",
    "                concatReplicates(FITCnorm_PD_C_133204_2, tf_CLASP_strain, 0, pD_CMapRowList1_133204_2, pD_CMapColList1_133204_2), \n",
    "                concatReplicates(FITCnorm_PD_C_133204_2, tf_CLASP_strain, 0, pD_CMapRowListR1_133204_2, pD_CMapColListR1_133204_2),\n",
    "                concatReplicates(FITCnorm_PD_C_133204_3, tf_CLASP_strain, 0, pD_CMapRowList1_133204_3, pD_CMapColList1_133204_3), \n",
    "                concatReplicates(FITCnorm_PD_C_133204_3, tf_CLASP_strain, 0, pD_CMapRowListR1_133204_3, pD_CMapColListR1_133204_3)], \n",
    "                    ignore_index=True)\n",
    "sns.distplot(np.log10(tf0Reps[~np.isnan(tf0Reps)].astype(float)),color = 'black', \n",
    "             ax = ax, hist = False, kde = True, kde_kws = {'shade': True})\n",
    "#plot for SynTF-CLASP (2 hours, index 4) for 1024 au input\n",
    "tfDoseInd = 4\n",
    "tf120Reps = pd.concat([concatReplicates(FITCnorm_P1_133204_1, tf_CLASP_strain, tfDoseInd, \n",
    "                                        pTimeMapRowList1_133204_1, pTimeMapColList1_133204_1), \n",
    "            concatReplicates(FITCnorm_P1_133204_1, tf_CLASP_strain, tfDoseInd, pTimeMapRowListR1_133204_1, pTimeMapColListR1_133204_1), \n",
    "            concatReplicates(FITCnorm_P1_133204_2, tf_CLASP_strain, tfDoseInd, pTimeMapRowList1_133204_2, pTimeMapColList1_133204_2), \n",
    "            concatReplicates(FITCnorm_P1_133204_2, tf_CLASP_strain, tfDoseInd, pTimeMapRowListR1_133204_2, pTimeMapColListR1_133204_2),\n",
    "            concatReplicates(FITCnorm_P1_133204_3, tf_CLASP_strain, tfDoseInd, pTimeMapRowList1_133204_3, pTimeMapColList1_133204_3), \n",
    "            concatReplicates(FITCnorm_P1_133204_3, tf_CLASP_strain, tfDoseInd, pTimeMapRowListR1_133204_3, pTimeMapColListR1_133204_3)], \n",
    "                      ignore_index=True)\n",
    "sns.distplot(np.log10(tf120Reps[~np.isnan(tf120Reps)].astype(float)), color=seq_col_brew[3], \n",
    "                 ax = ax, hist = False, kde = True, kde_kws = {'shade': True})\n",
    "#plot for SynTF-NLS (2 hours, index 1) for 1024 au input\n",
    "tfNLSReps = pd.concat([concatReplicates(FITCnorm_PC_133204_1, tf_NLS_strain, 0, \n",
    "                                        pCMapRowList1_133204_1, pCMapColList1_133204_1), \n",
    "            concatReplicates(FITCnorm_PD_C_133204_2, tf_NLS_strain, 1, pD_CMapRowList1_133204_2, pD_CMapColList1_133204_2), \n",
    "            concatReplicates(FITCnorm_PD_C_133204_2, tf_NLS_strain, 1, pD_CMapRowListR1_133204_2, pD_CMapColListR1_133204_2),\n",
    "            concatReplicates(FITCnorm_PD_C_133204_3, tf_NLS_strain, 1, pD_CMapRowList1_133204_3, pD_CMapColList1_133204_3), \n",
    "            concatReplicates(FITCnorm_PD_C_133204_3, tf_NLS_strain, 1, pD_CMapRowListR1_133204_3, pD_CMapColListR1_133204_3)], \n",
    "                      ignore_index=True)\n",
    "sns.distplot(np.log10(tfNLSReps[~np.isnan(tfNLSReps)].astype(float)),color = 'lightgreen', \n",
    "             ax = ax, hist = False, kde = True, kde_kws = {'shade': True})\n",
    "\n",
    "plt.ylim(0,5)\n",
    "plt.xlim(-2, 1)\n",
    "plt.xlabel(\"Log 10 FITC/SSC\")\n",
    "plt.ylabel(\"Density\")\n",
    "plt.title(\"SynTF -> pSYNTF-YFP\")\n",
    "dest = date1 + '_synTF_Comp_ctrl_120m_kde'\n",
    "#plt.savefig(os.getcwd() + \"/\" + dest + '.svg', bbox_inches='tight',dpi=300)\n",
    "#plt.savefig(os.getcwd() + \"/\" + dest + '.png', bbox_inches='tight',dpi=300)"
   ]
  },
  {
   "cell_type": "markdown",
   "metadata": {},
   "source": [
    "# Supplementary Figure 3C"
   ]
  },
  {
   "cell_type": "code",
   "execution_count": 27,
   "metadata": {
    "collapsed": false
   },
   "outputs": [
    {
     "data": {
      "image/png": "[encoded data removed]",
      "text/plain": [
       "<matplotlib.figure.Figure at 0x16dea710>"
      ]
     },
     "metadata": {},
     "output_type": "display_data"
    }
   ],
   "source": [
    "#compare to controls\n",
    "#plot histograms comparing Pho4-CLASP (204) to Pho4-mScarlet (224) and Pho4-NLS (225) \n",
    "seq_col_brew = sns.color_palette(\"Blues\", 4)\n",
    "sns.set_palette(seq_col_brew)\n",
    "tf_CLASP_strain = '204'\n",
    "tf_CytoKO_strain = '224'\n",
    "tf_NLS_strain = '225'\n",
    "\n",
    "\n",
    "fig, ax = plt.subplots(1, 1,sharex = True, sharey = True, figsize=(8,6))\n",
    "#plot FITC for Pho4-mScarlet at dose index 0 (no light) to compare to Pho4-CLASP (no light)\n",
    "tfCytoKOReps = pd.concat([concatReplicates(FITCnorm_PC_133204_1, tf_CytoKO_strain, 0, \n",
    "                                               pCMapRowList1_133204_1, pCMapColList1_133204_1), \n",
    "            concatReplicates(FITCnorm_PD_C_133204_2, tf_CytoKO_strain, 0, pD_CMapRowList1_133204_2, pD_CMapColList1_133204_2), \n",
    "            concatReplicates(FITCnorm_PD_C_133204_2, tf_CytoKO_strain, 0, pD_CMapRowListR1_133204_2, pD_CMapColListR1_133204_2),\n",
    "            concatReplicates(FITCnorm_PD_C_133204_3, tf_CytoKO_strain, 0, pD_CMapRowList1_133204_3, pD_CMapColList1_133204_3), \n",
    "            concatReplicates(FITCnorm_PD_C_133204_3, tf_CytoKO_strain, 0, pD_CMapRowListR1_133204_3, pD_CMapColListR1_133204_3)], \n",
    "                         ignore_index=True)\n",
    "#plot the log10 value of normalized FITC\n",
    "sns.distplot(np.log10(tfCytoKOReps[~np.isnan(tfCytoKOReps)].astype(float)),color = 'orange', \n",
    "                 ax = ax, hist = False, kde = True, kde_kws = {'shade': True})\n",
    "#plot for Pho4-CLASP (no light)\n",
    "tf0Reps = pd.concat([concatReplicates(FITCnorm_PD_133204_1, tf_CLASP_strain, 0, pDMapRowList1_133204_1, pDMapColList1_133204_1), \n",
    "            concatReplicates(FITCnorm_PD_133204_1, tf_CLASP_strain, 0, pDMapRowListR1_133204_1, pDMapColListR1_133204_1),\n",
    "            concatReplicates(FITCnorm_PD_C_133204_2, tf_CLASP_strain, 0, pD_CMapRowList1_133204_2, pD_CMapColList1_133204_2), \n",
    "            concatReplicates(FITCnorm_PD_C_133204_2, tf_CLASP_strain, 0, pD_CMapRowListR1_133204_2, pD_CMapColListR1_133204_2),\n",
    "            concatReplicates(FITCnorm_PD_C_133204_3, tf_CLASP_strain, 0, pD_CMapRowList1_133204_3, pD_CMapColList1_133204_3), \n",
    "            concatReplicates(FITCnorm_PD_C_133204_3, tf_CLASP_strain, 0, pD_CMapRowListR1_133204_3, pD_CMapColListR1_133204_3)], \n",
    "                    ignore_index=True)\n",
    "sns.distplot(np.log10(tf0Reps[~np.isnan(tf0Reps)].astype(float)),color = 'black',\n",
    "                 ax = ax, hist = False, kde = True, kde_kws = {'shade': True})\n",
    "tfDoseInd = 4\n",
    "#plot for Pho4-CLASP (2 hours, index 4) for 4095 au input\n",
    "tf120Reps = pd.concat([concatReplicates(FITCnorm_P1_133204_1, tf_CLASP_strain, tfDoseInd, \n",
    "                                        pTimeMapRowList1_133204_1, pTimeMapColList1_133204_1), \n",
    "            concatReplicates(FITCnorm_P1_133204_1, tf_CLASP_strain, tfDoseInd, pTimeMapRowListR1_133204_1, pTimeMapColListR1_133204_1), \n",
    "            concatReplicates(FITCnorm_P1_133204_2, tf_CLASP_strain, tfDoseInd, pTimeMapRowList1_133204_2, pTimeMapColList1_133204_2), \n",
    "            concatReplicates(FITCnorm_P1_133204_2, tf_CLASP_strain, tfDoseInd, pTimeMapRowListR1_133204_2, pTimeMapColListR1_133204_2),\n",
    "            concatReplicates(FITCnorm_P1_133204_3, tf_CLASP_strain, tfDoseInd, pTimeMapRowList1_133204_3, pTimeMapColList1_133204_3), \n",
    "            concatReplicates(FITCnorm_P1_133204_3, tf_CLASP_strain, tfDoseInd, pTimeMapRowListR1_133204_3, pTimeMapColListR1_133204_3)], \n",
    "                      ignore_index=True)\n",
    "sns.distplot(np.log10(tf120Reps[~np.isnan(tf120Reps)].astype(float)), color=seq_col_brew[3], \n",
    "                 ax = ax, hist = False, kde = True, kde_kws = {'shade': True})\n",
    "#plot for Pho4-NLS (2 hours, index 1) for 4095 au input\n",
    "tfNLSReps = pd.concat([concatReplicates(FITCnorm_PC_133204_1, tf_NLS_strain, 0, pCMapRowList1_133204_1, pCMapColList1_133204_1),\n",
    "            concatReplicates(FITCnorm_PD_C_133204_2, tf_NLS_strain, 1, pD_CMapRowList1_133204_2, pD_CMapColList1_133204_2), \n",
    "            concatReplicates(FITCnorm_PD_C_133204_2, tf_NLS_strain, 1, pD_CMapRowListR1_133204_2, pD_CMapColListR1_133204_2),\n",
    "            concatReplicates(FITCnorm_PD_C_133204_3, tf_NLS_strain, 1, pD_CMapRowList1_133204_3, pD_CMapColList1_133204_3), \n",
    "            concatReplicates(FITCnorm_PD_C_133204_3, tf_NLS_strain, 1, pD_CMapRowListR1_133204_3, pD_CMapColListR1_133204_3)], \n",
    "                      ignore_index=True)\n",
    "sns.distplot(np.log10(tfNLSReps[~np.isnan(tfNLSReps)].astype(float)),color = 'lightgreen', ax = ax, \n",
    "                     hist = False, kde = True, kde_kws = {'shade': True})\n",
    "\n",
    "plt.ylim(0,5)\n",
    "plt.xlim(-1.5, 1.25)\n",
    "plt.xlabel(\"Log 10 FITC/SSC\")\n",
    "plt.ylabel(\"Density\")\n",
    "plt.title(\"Pho4 -> pPHO84-YFP\")\n",
    "dest = date1 + '_pho4_Comp_ctrl_120m_kde'\n",
    "#plt.savefig(os.getcwd() + \"/\" + dest + '.svg', bbox_inches='tight',dpi=300)\n",
    "#plt.savefig(os.getcwd() + \"/\" + dest + '.png', bbox_inches='tight',dpi=300)"
   ]
  },
  {
   "cell_type": "markdown",
   "metadata": {},
   "source": [
    "# Supplementary Figure 3D"
   ]
  },
  {
   "cell_type": "code",
   "execution_count": 28,
   "metadata": {
    "collapsed": false
   },
   "outputs": [
    {
     "data": {
      "image/png": "[encoded data removed]",
      "text/plain": [
       "<matplotlib.figure.Figure at 0x16e7c048>"
      ]
     },
     "metadata": {},
     "output_type": "display_data"
    }
   ],
   "source": [
    "#plot histograms comparing Msn2-CLASP (228) to Msn2-mScarlet (480) and Msn2-NLS (229) \n",
    "seq_col_brew = sns.color_palette(\"Blues\", 4)\n",
    "sns.set_palette(seq_col_brew)\n",
    "tf_CLASP_strain = '228'\n",
    "tf_CytoKO_strain = '480'\n",
    "tf_NLS_strain = '229'\n",
    "\n",
    "fig, ax = plt.subplots(1, 1,sharex = True, sharey = True, figsize=(8,6))\n",
    "#concatenate replicates for each strain\n",
    "#plot FITC for Msn2-mScarlet at dose index 0 (no light) to compare to Msn2-CLASP (no light)\n",
    "tfCytoKOReps = pd.concat([concatReplicates(FITCnorm_PD_C_228yps_1, tf_CytoKO_strain, 0, \n",
    "                                           pD_CMapRowList1_228yps_1, pD_CMapColList1_228yps_1), \n",
    "            concatReplicates(FITCnorm_PD_C_228yps_1, tf_CytoKO_strain,0, pD_CMapRowListR1_228yps_1, pD_CMapColListR1_228yps_1),\n",
    "            concatReplicates(FITCnorm_PD_C_228yps_2, tf_CytoKO_strain, 0, pD_CMapRowList1_228yps_2, pD_CMapColList1_228yps_2), \n",
    "            concatReplicates(FITCnorm_PD_C_228yps_2, tf_CytoKO_strain, 0, pD_CMapRowListR1_228yps_2, pD_CMapColListR1_228yps_2), \n",
    "            concatReplicates(FITCnorm_PD_C_228yps_3, tf_CytoKO_strain, 0, pD_CMapRowList1_228yps_3, pD_CMapColList1_228yps_3), \n",
    "            concatReplicates(FITCnorm_PD_C_228yps_3, tf_CytoKO_strain, 0, pD_CMapRowListR1_228yps_3, pD_CMapColListR1_228yps_3)], \n",
    "                         ignore_index=True)\n",
    "#plot the log10 value of normalized FITC\n",
    "sns.distplot(np.log10(tfCytoKOReps[~np.isnan(tfCytoKOReps)].astype(float)),color = 'orange', \n",
    "             ax = ax, hist = False, kde = True, kde_kws = {'shade': True})\n",
    "#plot for Msn2-CLASP (no light)\n",
    "tf0Reps = pd.concat([concatReplicates(FITCnorm_PD_C_228yps_1, tf_CLASP_strain, 0, \n",
    "                                      pD_CMapRowList1_228yps_1, pD_CMapColList1_228yps_1), \n",
    "            concatReplicates(FITCnorm_PD_C_228yps_1, tf_CLASP_strain, 0, pD_CMapRowListR1_228yps_1, pD_CMapColListR1_228yps_1),\n",
    "            concatReplicates(FITCnorm_PD_C_228yps_2, tf_CLASP_strain, 0, pD_CMapRowList1_228yps_2, pD_CMapColList1_228yps_2), \n",
    "            concatReplicates(FITCnorm_PD_C_228yps_2, tf_CLASP_strain, 0, pD_CMapRowListR1_228yps_2, pD_CMapColListR1_228yps_2),\n",
    "            concatReplicates(FITCnorm_PD_C_228yps_3, tf_CLASP_strain, 0, pD_CMapRowList1_228yps_3, pD_CMapColList1_228yps_3), \n",
    "            concatReplicates(FITCnorm_PD_C_228yps_3, tf_CLASP_strain, 0, pD_CMapRowListR1_228yps_3, pD_CMapColListR1_228yps_3)], \n",
    "            ignore_index=True)\n",
    "sns.distplot(np.log10(tf0Reps[~np.isnan(tf0Reps)].astype(float)),color = 'black', \n",
    "             ax = ax, hist = False, kde = True, kde_kws = {'shade': True})\n",
    "#plot for Msn2-CLASP (2 hours, index 4) for 2048 au input\n",
    "tfDoseInd = 4\n",
    "tf120Reps = pd.concat([concatReplicates(FITCnorm_P1_228yps_1, tf_CLASP_strain, tfDoseInd, \n",
    "                                        pTimeMapRowList1_228yps_1, pTimeMapColList1_228yps_1), \n",
    "            concatReplicates(FITCnorm_P1_228yps_1, tf_CLASP_strain, tfDoseInd, pTimeMapRowListR1_228yps_1, pTimeMapColListR1_228yps_1), \n",
    "            concatReplicates(FITCnorm_P1_228yps_2, tf_CLASP_strain, tfDoseInd, pTimeMapRowList1_228yps_2, pTimeMapColList1_228yps_2), \n",
    "            concatReplicates(FITCnorm_P1_228yps_2, tf_CLASP_strain, tfDoseInd, pTimeMapRowListR1_228yps_2, pTimeMapColListR1_228yps_2),\n",
    "            concatReplicates(FITCnorm_P1_228yps_3, tf_CLASP_strain, tfDoseInd, pTimeMapRowList1_228yps_3, pTimeMapColList1_228yps_3), \n",
    "            concatReplicates(FITCnorm_P1_228yps_3, tf_CLASP_strain, tfDoseInd, pTimeMapRowListR1_228yps_3, pTimeMapColListR1_228yps_3)], \n",
    "                      ignore_index=True)\n",
    "sns.distplot(np.log10(tf120Reps[~np.isnan(tf120Reps)].astype(float)), color=seq_col_brew[3], \n",
    "             ax = ax, hist = False, kde = True, kde_kws = {'shade': True})\n",
    "#plot for Msn2-NLS (2 hours, index 1) for 2048 au input\n",
    "tfNLSReps = pd.concat([concatReplicates(FITCnorm_PD_C_228yps_1, tf_NLS_strain, 1,\n",
    "                                            pD_CMapRowList1_228yps_1, pD_CMapRowList1_228yps_1), \n",
    "            concatReplicates(FITCnorm_PD_C_228yps_1, tf_NLS_strain, 1, pD_CMapRowList1_228yps_1, pD_CMapRowList1_228yps_1),\n",
    "            concatReplicates(FITCnorm_PD_C_228yps_2, tf_NLS_strain, 1,pD_CMapRowList1_228yps_2, pD_CMapRowList1_228yps_2), \n",
    "            concatReplicates(FITCnorm_PD_C_228yps_2, tf_NLS_strain, 1, pD_CMapRowList1_228yps_2, pD_CMapRowList1_228yps_2),\n",
    "            concatReplicates(FITCnorm_PD_C_228yps_3, tf_NLS_strain, 1,pD_CMapRowList1_228yps_3, pD_CMapRowList1_228yps_3), \n",
    "            concatReplicates(FITCnorm_PD_C_228yps_3, tf_NLS_strain, 1, pD_CMapRowList1_228yps_3, pD_CMapRowList1_228yps_3)], \n",
    "                          ignore_index=True)\n",
    "sns.distplot(np.log10(tfNLSReps[~np.isnan(tfNLSReps)].astype(float)),color = 'lightgreen', \n",
    "                 ax = ax, hist = False, kde = True, kde_kws = {'shade': True})\n",
    "\n",
    "plt.ylim(0,5)\n",
    "plt.xlim(-0.5, 1.5)\n",
    "plt.xlabel(\"Log 10 FITC/SSC\")\n",
    "plt.ylabel(\"Density\")\n",
    "plt.title(\"Msn2 -> pHSP12-YFP\")\n",
    "dest = date1 + '_msn2_Comp_ctrl_120m_kde_3expts'\n",
    "#plt.savefig(os.getcwd() + \"/\" + dest + '.svg', bbox_inches='tight',dpi=300)\n",
    "#plt.savefig(os.getcwd() + \"/\" + dest + '.png', bbox_inches='tight',dpi=300)"
   ]
  },
  {
   "cell_type": "markdown",
   "metadata": {},
   "source": [
    "# Supplementary Figure 3E"
   ]
  },
  {
   "cell_type": "markdown",
   "metadata": {},
   "source": [
    "Images taken from ImageJ"
   ]
  },
  {
   "cell_type": "markdown",
   "metadata": {},
   "source": [
    "# Supplementary Figure 3F"
   ]
  },
  {
   "cell_type": "code",
   "execution_count": 29,
   "metadata": {
    "collapsed": true
   },
   "outputs": [],
   "source": [
    "dose5mnuc_gal4 = pd.read_csv(dataRepo + '20180314_p2CTSeed1_nuc.csv', header=None)\n",
    "dose5mcyt_gal4 = pd.read_csv(dataRepo + '20180314_p2CTSeed1_cyt.csv', header=None)\n",
    "dose5mbkg_gal4 = pd.read_csv(dataRepo + '20180314_p2CTSeed1_bkg.csv', header=None)"
   ]
  },
  {
   "cell_type": "code",
   "execution_count": 30,
   "metadata": {
    "collapsed": true
   },
   "outputs": [],
   "source": [
    "#adjust DF of brightness by background\n",
    "def bkgAdj(brightDF, bkgVec):\n",
    "    brightAdj = brightDF.apply(lambda x: x-bkgVec.iloc[0,:], 0)\n",
    "    return brightAdj\n",
    "#calculate nuclear/cytoplasmic enrichment and normalize\n",
    "def nucEnrich(nucDF, cytoDF):\n",
    "    nucCytoEnrich = nucDF/cytoDF\n",
    "    normNCEnrich = nucCytoEnrich.apply(lambda x: x/nucCytoEnrich.iloc[0,:], 1)\n",
    "    return [nucCytoEnrich, normNCEnrich]\n",
    "\n",
    "def rmUntrackedCells(nucDF, cytDF, maxUntrackedFrames):\n",
    "    #untracked cells often have 0 or negative reading (can be used for bkg-adj cells or not adjusted)\n",
    "    pass0Cutoff_nucDF = nucDF.apply(lambda x: sum(x<=0) > maxUntrackedFrames, 0)\n",
    "    pass0Cutoff_cytDF = cytDF.apply(lambda x: sum(x<=0) > maxUntrackedFrames, 0)\n",
    "    nucDF_woOutliers = nucDF.drop(list(np.where(pass0Cutoff_nucDF)[0]), axis=1)\n",
    "    cytDF_woOutliers =cytDF.drop(list(np.where(pass0Cutoff_nucDF)[0]), axis=1)\n",
    "    return [nucDF_woOutliers, cytDF_woOutliers]\n",
    "\n",
    "def rmOutliers(normNCDF, maxNegFrames): \n",
    "    #add in removal of cells which have negative values at any point\n",
    "    passNegCutoffDF = normNCDF.apply(lambda x: sum(x<0) > maxNegFrames, 0)\n",
    "    normNCDFwoOutliers = normNCDF.drop(list(np.where(passNegCutoffDF)[0]), axis=1)\n",
    "    return normNCDFwoOutliers"
   ]
  },
  {
   "cell_type": "code",
   "execution_count": 31,
   "metadata": {
    "collapsed": false
   },
   "outputs": [],
   "source": [
    "#adjust nuclear and cytoplasmic brightness by background value\n",
    "d5mnucAdj_gal4 = bkgAdj(dose5mnuc_gal4, dose5mbkg_gal4)\n",
    "d5mcytAdj_gal4 = bkgAdj(dose5mcyt_gal4, dose5mbkg_gal4)\n",
    "#remove cells which are untracked for more than 3 frames\n",
    "d5mnucAdj_gal4_rm_UT, d5mcytAdj_gal4_rm_UT = rmUntrackedCells(d5mnucAdj_gal4, d5mcytAdj_gal4, 3)\n",
    "#calculate nuclear/cytoplasmic enrichment and normalize to the first frame\n",
    "d5mnucCytoEnr_gal4_rm_UT, d5mnormNucCytoEnr_gal4_rm_UT = nucEnrich(d5mnucAdj_gal4_rm_UT, d5mcytAdj_gal4_rm_UT)\n",
    "#remove cells which have negative values at any point\n",
    "d5mnormNucCytoEnr_gal4_rm2 = rmOutliers(d5mnormNucCytoEnr_gal4_rm_UT, 0)\n",
    "#turn the dataframe from wide to long and mark the timepoints (images taken every 30s)\n",
    "longd5mnormNucCyto_gal4_rm2 = pd.melt(d5mnormNucCytoEnr_gal4_rm2)\n",
    "longd5mnormNucCyto_gal4_rm2[\"timepoint\"] = np.arange(0,d5mnormNucCytoEnr_gal4_rm2.shape[0]/2.0, \n",
    "                                                     step=0.5).tolist()*d5mnormNucCytoEnr_gal4_rm2.shape[1]"
   ]
  },
  {
   "cell_type": "code",
   "execution_count": 32,
   "metadata": {
    "collapsed": false
   },
   "outputs": [
    {
     "name": "stderr",
     "output_type": "stream",
     "text": [
      "C:\\Users\\Lindsey\\Miniconda\\lib\\site-packages\\seaborn\\timeseries.py:183: UserWarning: The tsplot function is deprecated and will be removed or replaced (in a substantially altered version) in a future release.\n",
      "  warnings.warn(msg, UserWarning)\n"
     ]
    },
    {
     "data": {
      "image/png": "[encoded data removed]",
      "text/plain": [
       "<matplotlib.figure.Figure at 0x16dfdda0>"
      ]
     },
     "metadata": {},
     "output_type": "display_data"
    }
   ],
   "source": [
    "#graphic showing light input was added in illustrator\n",
    "fig, ax = plt.subplots(1, 1, sharey = True, sharex=True, figsize=(5, 4))\n",
    "sns.tsplot(data=longd5mnormNucCyto_gal4_rm2, time=\"timepoint\", unit=\"variable\", \n",
    "           value=\"value\",err_style='ci_band', ci=95, color=\"black\", ax = ax)\n",
    "plt.ylim(0.8, 1.8)\n",
    "plt.xlabel(\"Time (min)\")\n",
    "plt.ylabel(\"Nuclear/Cytolasmic Enrichment\\nFold Change\")\n",
    "plt.title(\"Gal4-CLASP, n=\" + str(d5mnormNucCytoEnr_gal4_rm2.shape[1]))\n",
    "date2 = \"20180315\"\n",
    "dest = date2 + '_5m_DoseResp'\n",
    "#plt.savefig(os.getcwd() + \"/\" + dest + '.svg',dpi=300)\n",
    "#plt.savefig(os.getcwd() + \"/\" + dest + '.png',dpi=300)"
   ]
  },
  {
   "cell_type": "markdown",
   "metadata": {},
   "source": [
    "# Supplementary Figure 3G"
   ]
  },
  {
   "cell_type": "code",
   "execution_count": 33,
   "metadata": {
    "collapsed": true
   },
   "outputs": [],
   "source": [
    "date3 = '20171212_1110_1107'\n",
    "#load platemaps which detail the location of each strain and dose\n",
    "p2Map_1107, pDarkMap_1107 = [pd.read_csv(x) for x in \n",
    "                                    glob.glob(dataRepo + '20171107_LVTRPLANS_Gal4Pho4/PlateMap*.csv')]\n",
    "p1Map_1110, pDarkMap_1110 = [pd.read_csv(x) for x in \n",
    "                                    glob.glob(dataRepo + '20171110_LVTRPLANS_Gal4Pho4/PlateMap*.csv')]\n",
    "p1Map_1212, pDarkMap_1212 = [pd.read_csv(x) for x in \n",
    "                                    glob.glob(dataRepo + '20171212_LVTRPLANS_Gal4Msn2/PlateMap*.csv')]"
   ]
  },
  {
   "cell_type": "code",
   "execution_count": 34,
   "metadata": {
    "collapsed": true
   },
   "outputs": [],
   "source": [
    "#save the names of the directories which hold the actual flow cytometry data\n",
    "datadir1107_2 = dataRepo + \"20171107_LVTRPLANS_Gal4Pho4/P2/\"\n",
    "datadir1107_3 = dataRepo + \"20171107_LVTRPLANS_Gal4Pho4/P3_noLight/\"\n",
    "datadir1110 = dataRepo + \"20171110_LVTRPLANS_Gal4Pho4/P1_3dil/\"\n",
    "datadir1212_1 = dataRepo + \"20171212_LVTRPLANS_Gal4Msn2/120m Plate/\"\n",
    "datadir1212_2 = dataRepo + \"20171212_LVTRPLANS_Gal4Msn2/Dark Plate/\""
   ]
  },
  {
   "cell_type": "code",
   "execution_count": 35,
   "metadata": {
    "collapsed": true
   },
   "outputs": [],
   "source": [
    "#save the names of the files within directories which hold the actual flow cytometry data\n",
    "datadir_list_3g = [datadir1107_2, datadir1107_3, datadir1110, datadir1212_1, datadir1212_2]\n",
    "[files_1107_2, files_1107_3, files_1110, files_1212_1, files_1212_2] = [glob.glob(x + '*.fcs') for x in datadir_list_3g]"
   ]
  },
  {
   "cell_type": "code",
   "execution_count": 36,
   "metadata": {
    "collapsed": false
   },
   "outputs": [],
   "source": [
    "#load flow cytometry data into a plate layout\n",
    "[plateraw_P2_1107, plateraw_PD_1107, plateraw_1110,\n",
    " plateraw_P1_1212, plateraw_PD_1212] = [pd.DataFrame(index = rows) for i in range(5)]\n",
    "files_list_3g = [files_1107_2, files_1107_3, files_1110, files_1212_1, files_1212_2]\n",
    "plateraw_list_3g = [plateraw_P2_1107, plateraw_PD_1107, plateraw_1110, plateraw_P1_1212, plateraw_PD_1212]\n",
    "\n",
    "#parse file names to get plate location\n",
    "parseFilenamesPlateRaw(files_list_3g, plateraw_list_3g)"
   ]
  },
  {
   "cell_type": "code",
   "execution_count": 37,
   "metadata": {
    "collapsed": true
   },
   "outputs": [],
   "source": [
    "[platesort_P2_1107, platesort_PD_1107, platesort_1110, \n",
    " platesort_P1_1212, platesort_PD_1212] = [plateraw.loc[rows,cols] for plateraw in plateraw_list_3g]\n",
    "\n",
    "platesort_3g = [platesort_P2_1107, platesort_PD_1107, platesort_1110, platesort_P1_1212, platesort_PD_1212]"
   ]
  },
  {
   "cell_type": "code",
   "execution_count": 44,
   "metadata": {
    "collapsed": true
   },
   "outputs": [],
   "source": [
    "#calculate normalized stats for FITC and mCherry from each experiment\n",
    "#gate data for flow cytometry experiments on FITC (>=100, or approx bkg fluorescence) and side scatter (>= 2000)\n",
    "[[FITCnorm_P2_1107, mCherrynorm_P2_1107], [FITCnorm_PD_1107, mCherrynorm_PD_1107], \n",
    " [FITCnorm_1110, mCherrynorm_1110], [FITCnorm_P1_1212, mCherrynorm_P1_1212], \n",
    " [FITCnorm_PD_1212, mCherrynorm_PD_1212]] = [FCdatastats(platesort,1,rows,cols,100,0,2000) \n",
    "                                                         for platesort in platesort_3g]"
   ]
  },
  {
   "cell_type": "code",
   "execution_count": 45,
   "metadata": {
    "collapsed": true
   },
   "outputs": [],
   "source": [
    "#parse platemaps\n",
    "p2MapRowList_1107, p2MapColList_1107 = plateMapParse(p2Map_1107, 5)\n",
    "pDarkMapRowList_1107, pDarkMapColList_1107 = plateMapParse(pDarkMap_1107, 1)\n",
    "p1MapRowList_1110, p1MapColList_1110 = plateMapParse(p1Map_1110, 8)\n",
    "pDarkMapRowList_1110, pDarkMapColList_1110 = plateMapParse(pDarkMap_1110, 1)\n",
    "p1MapRowList_1212, p1MapColList_1212 = plateMapParse(p1Map_1212, 5)\n",
    "pDarkMapRowList_1212, pDarkMapColList_1212 = plateMapParse(pDarkMap_1212, 1)"
   ]
  },
  {
   "cell_type": "code",
   "execution_count": 48,
   "metadata": {
    "collapsed": false
   },
   "outputs": [
    {
     "data": {
      "image/png": "[encoded data removed]",
      "text/plain": [
       "<matplotlib.figure.Figure at 0x1d01e7b8>"
      ]
     },
     "metadata": {},
     "output_type": "display_data"
    }
   ],
   "source": [
    "seq_col_brew = sns.color_palette(\"Blues\", 4)\n",
    "sns.set_palette(seq_col_brew)\n",
    "#set strain name; all experiments use a 4 hour outgrowth, but this is specifically notated in 1107 expt\n",
    "strain_name = '177'\n",
    "strain_name_outgrowth = strain_name + '_4h'\n",
    "fig, ax = plt.subplots(1, 1,sharex = True, sharey = True, figsize=(8,6))\n",
    "#there are no replicates in each experiment, so concatenate for each experiment\n",
    "#plot FITC for Gal4-mScarlet at dose index 0 (no light)\n",
    "tf0Reps = pd.concat([FITCnorm_PD_1107.raw.iloc[pDarkMapRowList_1107[0][strain_name_outgrowth],\n",
    "                          pDarkMapColList_1107[0][strain_name_outgrowth]], \n",
    "           FITCnorm_1110.raw.iloc[pDarkMapRowList_1110[0][strain_name],\n",
    "                          pDarkMapColList_1110[0][strain_name]], \n",
    "           FITCnorm_PD_1212.raw.iloc[pDarkMapRowList_1212[0][strain_name],\n",
    "                          pDarkMapColList_1212[0][strain_name]]], ignore_index=True)\n",
    "#plot the log10 value of normalized FITC\n",
    "sns.distplot(np.log10(tf0Reps[~np.isnan(tf0Reps)].astype(float)),color = 'black', \n",
    "             ax = ax, hist = False, kde = True, kde_kws = {'shade': True})\n",
    "#plot for Gal4-CLASP ( light)\n",
    "tfDoseInd = 3\n",
    "tf120Reps = pd.concat([FITCnorm_P2_1107.raw.iloc[p2MapRowList_1107[tfDoseInd][strain_name_outgrowth],\n",
    "                          p2MapColList_1107[tfDoseInd][strain_name_outgrowth]], \n",
    "           FITCnorm_1110.raw.iloc[p1MapRowList_1110[tfDoseInd][strain_name],\n",
    "                          p1MapColList_1110[tfDoseInd][strain_name]], \n",
    "           FITCnorm_P1_1212.raw.iloc[p1MapRowList_1212[tfDoseInd][strain_name],\n",
    "                          p1MapColList_1212[tfDoseInd][strain_name]]], ignore_index=True)\n",
    "sns.distplot(np.log10(tf120Reps[~np.isnan(tf120Reps)].astype(float)),color = seq_col_brew[3], \n",
    "             ax = ax, hist = False, kde = True, kde_kws = {'shade': True})\n",
    "plt.ylim(0,5)\n",
    "plt.xlim(-2.0, 1.0)\n",
    "plt.xlabel(\"Log 10 FITC/SSC\")\n",
    "plt.ylabel(\"Density\")\n",
    "plt.title(\"Gal4-CLASP -> pGal1-YFP\")\n",
    "dest = date3 + '_gal4CLASP_120m_kde_3expts'\n",
    "#plt.savefig(os.getcwd() + \"/\" + dest + '.svg', bbox_inches='tight',dpi=300)\n",
    "#plt.savefig(os.getcwd() + \"/\" + dest + '.png', bbox_inches='tight',dpi=300)"
   ]
  },
  {
   "cell_type": "code",
   "execution_count": null,
   "metadata": {
    "collapsed": true
   },
   "outputs": [],
   "source": []
  }
 ],
 "metadata": {
  "anaconda-cloud": {},
  "kernelspec": {
   "display_name": "Python 2",
   "language": "python",
   "name": "python2"
  },
  "language_info": {
   "codemirror_mode": {
    "name": "ipython",
    "version": 2
   },
   "file_extension": ".py",
   "mimetype": "text/x-python",
   "name": "python",
   "nbconvert_exporter": "python",
   "pygments_lexer": "ipython2",
   "version": "2.7.12"
  }
 },
 "nbformat": 4,
 "nbformat_minor": 0
}
